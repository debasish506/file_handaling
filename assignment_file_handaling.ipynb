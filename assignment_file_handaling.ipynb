{
  "nbformat": 4,
  "nbformat_minor": 0,
  "metadata": {
    "colab": {
      "provenance": []
    },
    "kernelspec": {
      "name": "python3",
      "display_name": "Python 3"
    },
    "language_info": {
      "name": "python"
    }
  },
  "cells": [
    {
      "cell_type": "code",
      "execution_count": null,
      "metadata": {
        "id": "y8KJd5vRjdo4"
      },
      "outputs": [],
      "source": []
    },
    {
      "cell_type": "markdown",
      "source": [
        "1. Difference between interpreted and compiled languages\n",
        "\n",
        "    Interpreted: Code runs line by line (like Python). Slower but easy to test.\n",
        "\n",
        "    Compiled: Whole code is converted to machine language before running (like C, C++). Faster but needs compilation every time.\n",
        "\n",
        "2. What is exception handling in Python\n",
        "\n",
        "    It means dealing with errors in your program so that it doesn’t crash suddenly.\n",
        "\n",
        "    Example: dividing by zero → Python shows error. Using try and except, we can handle it nicely.\n",
        "\n",
        "3. Purpose of the finally block\n",
        "\n",
        "    The finally block always runs, whether there’s an error or not.\n",
        "\n",
        "    Commonly used to close files or release resources.\n",
        "\n",
        "4. What is logging in Python\n",
        "\n",
        "    Logging is like keeping a record or diary of what your program does.\n",
        "\n",
        "    It helps to find what went wrong later, without printing everything on screen.\n",
        "\n",
        "5. Significance of the __del__ method\n",
        "\n",
        "    It’s called when an object is deleted or destroyed.\n",
        "\n",
        "    Think of it like a \"goodbye\" message before Python removes it from memory.\n",
        "\n",
        "6. Difference between import and from ... import\n",
        "\n",
        "    import math → you use functions like math.sqrt(4).\n",
        "\n",
        "    from math import sqrt → you can use sqrt(4) directly.\n",
        "\n",
        "    Both bring code from another file/module into your program.\n",
        "\n",
        "7. Handling multiple exceptions\n",
        "\n",
        "    You can handle different types of errors in one place using multiple except blocks.\n",
        "\n",
        "\n",
        "\n",
        "8. Purpose of with statement in file handling\n",
        "\n",
        "    with automatically closes the file after use.\n",
        "\n",
        "    You don’t have to remember to close it manually.\n",
        "\n",
        "9. Difference between multithreading and multiprocessing\n",
        "\n",
        "    Multithreading: Runs multiple small tasks in one process (shares memory).\n",
        "\n",
        "    Multiprocessing: Runs multiple tasks in separate processes (separate memory).\n",
        "\n",
        "    Threads are lighter; processes are stronger and safer for heavy tasks.\n",
        "\n",
        "10. Advantages of using logging\n",
        "\n",
        "    Keeps records of what happened.\n",
        "\n",
        "    Helps in debugging errors later.\n",
        "\n",
        "    Better than print statements for large programs.\n",
        "\n",
        "11. What is memory management\n",
        "\n",
        "    Python automatically handles the use and release of memory using garbage collection.\n",
        "\n",
        "    You don’t have to do it manually like in C.\n",
        "\n",
        "12. Basic steps in exception handling\n",
        "\n",
        "    Write code inside try.\n",
        "\n",
        "    Catch error in except.\n",
        "\n",
        "    Optionally use else (if no error).\n",
        "\n",
        "    Optionally use finally (always runs).\n",
        "\n",
        "13. Why memory management is important\n",
        "\n",
        "    It makes sure Python doesn’t waste memory or slow down.\n",
        "\n",
        "    Helps keep the program fast and smooth.\n",
        "\n",
        "14. Role of try and except\n",
        "\n",
        "    try: code that might cause an error.\n",
        "\n",
        "    except: code to handle the error safely.\n",
        "\n",
        "15. How Python's garbage collection works\n",
        "\n",
        "    Python removes unused objects automatically from memory.\n",
        "\n",
        "    It frees up space so the program doesn’t crash or slow down.\n",
        "\n",
        "16. Purpose of else block in exception handling\n",
        "\n",
        "    Runs only if no error occurs in try.\n",
        "\n",
        "\n",
        "\n",
        "17. Common logging levels\n",
        "\n",
        "    DEBUG – for testing.\n",
        "\n",
        "    INFO – normal messages.\n",
        "\n",
        "    WARNING – something might go wrong.\n",
        "\n",
        "    ERROR – something went wrong.\n",
        "\n",
        "    CRITICAL – serious problem.\n",
        "\n",
        "18. Difference between os.fork() and multiprocessing\n",
        "\n",
        "    os.fork() works only on Unix/Linux, creates a copy of the process.\n",
        "\n",
        "    multiprocessing works on all systems (Windows too) and is easier to use.\n",
        "\n",
        "19. Importance of closing a file\n",
        "\n",
        "    If you don’t close it, data may not save properly, or file may get locked.\n",
        "\n",
        "    Always close or use with for safety.\n",
        "\n",
        "20. Difference between file.read() and file.readline()\n",
        "\n",
        "    read() → reads the whole file.\n",
        "\n",
        "    readline() → reads one line at a time.\n",
        "\n",
        "21. What is the logging module used for\n",
        "\n",
        "    To record program messages, errors, and status into files or console.\n",
        "\n",
        "    Useful for debugging and tracking.\n",
        "\n",
        "22. What is the os module used for in file handling\n",
        "\n",
        "    It helps to work with files and folders (create, rename, delete, etc.).\n",
        "\n",
        "\n",
        "\n",
        "23. Challenges in memory management\n",
        "\n",
        "    Too many variables → memory usage increases.\n",
        "\n",
        "    Circular references (objects referring to each other) can confuse garbage collector.\n",
        "\n",
        "    Large data handling needs careful use.\n",
        "\n",
        "24. How to raise an exception manually\n",
        "\n",
        "    Use the raise keyword.\n",
        "\n",
        "    raise ValueError(\"Wrong value entered\")\n",
        "\n",
        "25. Why multithreading is important\n",
        "\n",
        "    Helps run many small tasks at once — like downloading files, updating UI, or running background work — without waiting for one to finish."
      ],
      "metadata": {
        "id": "Wnhwv-KXjn3f"
      }
    },
    {
      "cell_type": "code",
      "source": [
        "#1\n",
        "file = open(\"myassg.txt\", \"w\")\n",
        "file.write(\"Welcome to Pwskill\")\n",
        "file.close()\n"
      ],
      "metadata": {
        "id": "mXmpS9aflmwM"
      },
      "execution_count": 4,
      "outputs": []
    },
    {
      "cell_type": "code",
      "source": [
        "#2\n",
        "with open(\"myassg.txt\", \"r\") as file:\n",
        "    for line in file:\n",
        "        print(line)\n"
      ],
      "metadata": {
        "colab": {
          "base_uri": "https://localhost:8080/"
        },
        "id": "4_DfFdm9nf8c",
        "outputId": "b93a20de-d8ae-4bce-af79-5e19a125cd08"
      },
      "execution_count": 5,
      "outputs": [
        {
          "output_type": "stream",
          "name": "stdout",
          "text": [
            "Welcome to Pwskill\n"
          ]
        }
      ]
    },
    {
      "cell_type": "code",
      "source": [
        "#3\n",
        "try:\n",
        "    with open(\"gohst.txt\", \"r\") as file:\n",
        "        print(file.read())\n",
        "except FileNotFoundError:\n",
        "    print(\"File not found! check again\")\n"
      ],
      "metadata": {
        "colab": {
          "base_uri": "https://localhost:8080/"
        },
        "id": "LonPAapSoDjE",
        "outputId": "d603adf1-97cb-49b0-cb11-e246fb3d0e16"
      },
      "execution_count": 6,
      "outputs": [
        {
          "output_type": "stream",
          "name": "stdout",
          "text": [
            "File not found! check again\n"
          ]
        }
      ]
    },
    {
      "cell_type": "code",
      "source": [
        "#5\n",
        "\n",
        "try:\n",
        "    a = 10 / 0\n",
        "except ZeroDivisionError:\n",
        "    print(\"Cannot divide by zero\")try:\n",
        "    a = 10 / 0\n",
        "except ZeroDivisionError:\n",
        "    print(\"Cannot divide by zero\")"
      ],
      "metadata": {
        "colab": {
          "base_uri": "https://localhost:8080/",
          "height": 106
        },
        "id": "93FH8ZNpoGJH",
        "outputId": "e1d5e7a7-35e6-49fc-a2f4-22fd77833ab7"
      },
      "execution_count": 18,
      "outputs": [
        {
          "output_type": "error",
          "ename": "SyntaxError",
          "evalue": "invalid syntax (ipython-input-3448196898.py, line 6)",
          "traceback": [
            "\u001b[0;36m  File \u001b[0;32m\"/tmp/ipython-input-3448196898.py\"\u001b[0;36m, line \u001b[0;32m6\u001b[0m\n\u001b[0;31m    print(\"Cannot divide by zero\")try:\u001b[0m\n\u001b[0m                                  ^\u001b[0m\n\u001b[0;31mSyntaxError\u001b[0m\u001b[0;31m:\u001b[0m invalid syntax\n"
          ]
        }
      ]
    },
    {
      "cell_type": "code",
      "source": [
        "#7\n",
        "import logging\n",
        "\n",
        "\n",
        "logging.info(\"This is an info message\")\n",
        "logging.warning(\"This is a warning message\")\n",
        "logging.error(\"This is an error message\")"
      ],
      "metadata": {
        "colab": {
          "base_uri": "https://localhost:8080/"
        },
        "id": "ErAi3P-BopcY",
        "outputId": "4c62c0c5-c15d-4db8-939e-bdd80fb14d14"
      },
      "execution_count": 8,
      "outputs": [
        {
          "output_type": "stream",
          "name": "stderr",
          "text": [
            "WARNING:root:This is a warning message\n",
            "ERROR:root:This is an error message\n"
          ]
        }
      ]
    },
    {
      "cell_type": "code",
      "source": [
        "#8\n",
        "try:\n",
        "    file = open(\"file_unknown.txt\", \"r\")\n",
        "except FileNotFoundError:\n",
        "    print(\"File not found\")"
      ],
      "metadata": {
        "colab": {
          "base_uri": "https://localhost:8080/"
        },
        "id": "fU9cD4QOpcWv",
        "outputId": "662249a2-82cd-497c-b77b-c9e03cb718a7"
      },
      "execution_count": 9,
      "outputs": [
        {
          "output_type": "stream",
          "name": "stdout",
          "text": [
            "File not found\n"
          ]
        }
      ]
    },
    {
      "cell_type": "code",
      "source": [
        "#9\n",
        "with open(\"myassg.txt\", \"r\") as file:\n",
        "    lines = file.readlines()\n",
        "\n",
        "print(lines)"
      ],
      "metadata": {
        "colab": {
          "base_uri": "https://localhost:8080/"
        },
        "id": "uZGXIDpuphiB",
        "outputId": "ae3ac72a-823b-4aee-f601-70ac7ccd24c8"
      },
      "execution_count": 10,
      "outputs": [
        {
          "output_type": "stream",
          "name": "stdout",
          "text": [
            "['Welcome to Pwskill']\n"
          ]
        }
      ]
    },
    {
      "cell_type": "code",
      "source": [
        "#10\n",
        "with open(\"myassg.txt\", \"a\") as file:\n",
        "    file.write(\"\\nNOw write your own word.\")\n"
      ],
      "metadata": {
        "id": "fEdA917dqY2j"
      },
      "execution_count": 11,
      "outputs": []
    },
    {
      "cell_type": "code",
      "source": [
        "#11\n",
        "try:\n",
        "    data = {\"name\": \"Debasish\"}\n",
        "    print(data[\"age\"])\n",
        "except KeyError:\n",
        "    print(\"Key not found in dictionary!\")\n"
      ],
      "metadata": {
        "id": "ZeCMnbcLqxaZ",
        "outputId": "5bb29cc7-636d-4d09-8a38-2a517e180517",
        "colab": {
          "base_uri": "https://localhost:8080/"
        }
      },
      "execution_count": 12,
      "outputs": [
        {
          "output_type": "stream",
          "name": "stdout",
          "text": [
            "Key not found in dictionary!\n"
          ]
        }
      ]
    },
    {
      "cell_type": "code",
      "source": [
        "#12\n",
        "try:\n",
        "    num = int(\"abc\")\n",
        "    result = 10 / 0\n",
        "except ValueError:\n",
        "    print(\"Value error\")\n",
        "except ZeroDivisionError:\n",
        "    print(\"Division by zero error\")\n"
      ],
      "metadata": {
        "id": "YxuIABiOq4in",
        "outputId": "b0197494-70fa-4371-e1b7-7e3fa796be50",
        "colab": {
          "base_uri": "https://localhost:8080/"
        }
      },
      "execution_count": 13,
      "outputs": [
        {
          "output_type": "stream",
          "name": "stdout",
          "text": [
            "Value error\n"
          ]
        }
      ]
    },
    {
      "cell_type": "code",
      "source": [
        "#13\n",
        "import os\n",
        "\n",
        "if os.path.exists(\"myassg.txt\"):\n",
        "    print(\"File exists!\")\n",
        "else:\n",
        "    print(\"File not found!\")\n"
      ],
      "metadata": {
        "id": "ASXN84X0rAAA",
        "outputId": "bd92c76a-4b68-4caf-95d3-efe4ef09a27f",
        "colab": {
          "base_uri": "https://localhost:8080/"
        }
      },
      "execution_count": 14,
      "outputs": [
        {
          "output_type": "stream",
          "name": "stdout",
          "text": [
            "File exists!\n"
          ]
        }
      ]
    },
    {
      "cell_type": "markdown",
      "source": [],
      "metadata": {
        "id": "6CH3Czr3oDMx"
      }
    },
    {
      "cell_type": "code",
      "source": [
        "#15\n",
        "with open(\"myassg.txt\", \"r\") as file:\n",
        "    content = file.read()\n",
        "    if content:\n",
        "        print(content)\n",
        "    else:\n",
        "        print(\"File is empty!\")\n"
      ],
      "metadata": {
        "id": "8g9ZHLBDrL3b",
        "outputId": "26c5c1fb-3544-4790-d996-3a3f4a392aee",
        "colab": {
          "base_uri": "https://localhost:8080/"
        }
      },
      "execution_count": 15,
      "outputs": [
        {
          "output_type": "stream",
          "name": "stdout",
          "text": [
            "Welcome to Pwskill\n",
            "NOw write your own word.\n"
          ]
        }
      ]
    },
    {
      "cell_type": "code",
      "source": [
        "#20\n",
        "with open(\"myassg.txt\", \"r\") as file:\n",
        "    print(file.read())\n"
      ],
      "metadata": {
        "id": "lCFpHInBrivT",
        "outputId": "4a4f24a4-501f-4452-cc8e-98b83e64bfdf",
        "colab": {
          "base_uri": "https://localhost:8080/"
        }
      },
      "execution_count": 17,
      "outputs": [
        {
          "output_type": "stream",
          "name": "stdout",
          "text": [
            "Welcome to Pwskill\n",
            "NOw write your own word.\n"
          ]
        }
      ]
    },
    {
      "cell_type": "code",
      "source": [
        "#22\n",
        "import os\n",
        "\n",
        "if os.path.getsize(\"myassg.txt\") == 0:\n",
        "    print(\"File is empty!\")\n",
        "else:\n",
        "    with open(\"myassg.txt\", \"r\") as file:\n",
        "        print(file.read())\n"
      ],
      "metadata": {
        "id": "u2MbepHTrxr8",
        "outputId": "b174ee18-e0ff-498d-d89a-2d37ddb7bfd7",
        "colab": {
          "base_uri": "https://localhost:8080/"
        }
      },
      "execution_count": 19,
      "outputs": [
        {
          "output_type": "stream",
          "name": "stdout",
          "text": [
            "Welcome to Pwskill\n",
            "NOw write your own word.\n"
          ]
        }
      ]
    }
  ]
}